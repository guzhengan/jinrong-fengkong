{
 "cells": [
  {
   "cell_type": "markdown",
   "metadata": {},
   "source": [
    "# 第一章 赛题理解"
   ]
  },
  {
   "cell_type": "markdown",
   "metadata": {},
   "source": [
    "## 1.4.1 分类算法常见的评估指标"
   ]
  },
  {
   "cell_type": "raw",
   "metadata": {},
   "source": [
    "1、混淆矩阵（Confuse matrix）\n",
    "\n",
    "1. (1)若一个实例是正类，并且被预测为正类，即为真正类TP(True Positive ) \n",
    "2. (2)若一个实例是正类，但是被预测为负类，即为假负类FN(False Negative ) \n",
    "3. (3)若一个实例是负类，但是被预测为正类，即为假正类FP(False Positive ) \n",
    "4. (4)若一个实例是负类，并且被预测为负类，即为真负类TN(True Negative )"
   ]
  },
  {
   "cell_type": "markdown",
   "metadata": {},
   "source": [
    "### 2、准确率（Accuracy）\n",
    "#### 准确率是常用的一个评价指标，但不适合样本不均衡的情况\n",
    "####  Accuracy = (TP+TN)/(TP+TN+FP+TN)"
   ]
  },
  {
   "cell_type": "raw",
   "metadata": {},
   "source": [
    "3、精确率（Precision）\n",
    "又称查准率，正确预测为正样本（TP）占预测为正样本（TP+FP）的百分比，即\n",
    "Precision  = (TP)/(TP+FP)"
   ]
  },
  {
   "cell_type": "raw",
   "metadata": {},
   "source": [
    "4、召回率（Recall）\n",
    "又称查全率，正确预测为正样本（TP）占正样本（TP+FN）的百分比，即\n",
    "Recall = TP/(TP+FN)"
   ]
  },
  {
   "cell_type": "raw",
   "metadata": {},
   "source": [
    "5、F1 Score \n",
    "精确率和召回率是相互影响的，精确率升高则召回率下降，召回率升高则精准率下降，如果需要兼顾二者，就需要精确率、召回率结合的F1 Score。\n",
    "F1-Score = 2/((1/Precision)+(1/Recall))"
   ]
  },
  {
   "cell_type": "raw",
   "metadata": {},
   "source": [
    "6、P-R曲线（Precision-Recall Curve） P-R曲线是描述精确率和召回率变化的曲线"
   ]
  },
  {
   "cell_type": "code",
   "execution_count": null,
   "metadata": {},
   "outputs": [],
   "source": [
    "7、ROC（Receiver Operating Characteristic）\n",
    "\n",
    "ROC空间将假正例率（FPR）定义为 X 轴，真正例率（TPR）定义为 Y 轴。\n",
    "FPR：在所有实际为负例的样本中，被错误地判断为正例之比率\n",
    "FPR = FP/(FP+TN)\n",
    "TPR：在所有实际为正例的样本中，被正确地判断为正例之比率。\n",
    "TPR = TP/(TP+FN)"
   ]
  },
  {
   "cell_type": "raw",
   "metadata": {},
   "source": [
    "8、AUC(Area Under Curve) AUC（Area Under Curve）被定义为 ROC曲线 下与坐标轴围成的面积，显然这个面积的数值不会大于1。又由于ROC曲线一般都处于y=x这条直线的上方，所以AUC的取值范围在0.5和1之间。AUC越接近1.0，检测方法真实性越高;等于0.5时，则真实性最低，无应用价值。"
   ]
  },
  {
   "cell_type": "markdown",
   "metadata": {},
   "source": [
    "### 1.4.2 金融风控预测类常见的评估指标"
   ]
  },
  {
   "cell_type": "raw",
   "metadata": {},
   "source": [
    "KS(Kolmogorov-Smirnov) \n",
    "KS统计量由两位苏联数学家A.N. Kolmogorov和N.V. Smirnov提出。\n",
    "在风控中，KS常用于评估模型区分度。区分度越大，说明模型的风险排序能力（ranking ability）越强。 \n",
    "K-S曲线与ROC曲线类似，不同在于：\n",
    "1、ROC曲线将真正例率和假正例率作为横纵轴\n",
    "2、K-S曲线将真正例率和假正例率都作为纵轴，横轴则由选定的阈值来充当。 公式如下： \n",
    "KS = max(TPR- FPR)\n",
    "KS不同代表的不同情况，一般情况KS值越大，模型的区分能力越强，\n",
    "但是也不是越大模型效果就越好，如果KS过大，模型可能存在异常，所以当KS值过高可能需要检查模型是否过拟合。\n",
    "以下为KS值对应的模型情况，但此对应不是唯一的，只代表大致趋势。"
   ]
  },
  {
   "cell_type": "raw",
   "metadata": {},
   "source": [
    " KS值<0.2 ,一般认为为模型没有区分能力。\n",
    " KS值[0.2,0.3],模型具有一定区分能力，勉强可以接受\n",
    " KS值[0.3,0.5],模型具有较强的区分能力。\n",
    " KS值大于0.75，往往表示模型有异常。"
   ]
  },
  {
   "cell_type": "code",
   "execution_count": null,
   "metadata": {},
   "outputs": [],
   "source": []
  },
  {
   "cell_type": "code",
   "execution_count": null,
   "metadata": {},
   "outputs": [],
   "source": []
  },
  {
   "cell_type": "code",
   "execution_count": null,
   "metadata": {},
   "outputs": [],
   "source": []
  },
  {
   "cell_type": "code",
   "execution_count": null,
   "metadata": {},
   "outputs": [],
   "source": []
  }
 ],
 "metadata": {
  "kernelspec": {
   "display_name": "Python 3",
   "language": "python",
   "name": "python3"
  },
  "language_info": {
   "codemirror_mode": {
    "name": "ipython",
    "version": 3
   },
   "file_extension": ".py",
   "mimetype": "text/x-python",
   "name": "python",
   "nbconvert_exporter": "python",
   "pygments_lexer": "ipython3",
   "version": "3.7.7"
  }
 },
 "nbformat": 4,
 "nbformat_minor": 4
}
