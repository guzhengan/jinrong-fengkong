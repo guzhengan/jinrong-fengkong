{
 "cells": [
  {
   "cell_type": "markdown",
   "metadata": {},
   "source": [
    "#### 模型融合是比赛后期上分的重要手段，特别是多人组队学习的比赛中，将不同队友的模型进行融合，可能会收获意想不到的效果哦，往往模型相差越大且模型表现都不错的前提下，模型融合后结果会有大幅提升，以下是模型融合的方式。\n",
    "#### 平均：\n",
    "    简单平均法\n",
    "    加权平均法\n",
    "#### 投票：\n",
    "    简单投票法\n",
    "    加权投票法\n",
    "#### 综合：\n",
    "    排序融合\n",
    "    log融合\n",
    "#### stacking\n",
    "    构建多层模型，并利用预测结果再拟合预测\n",
    "#### blending：\n",
    "    选取部分数据预测训练得到预测结果作为新特征，带入剩下的数据预测。\n",
    "#### boosting/bagging"
   ]
  },
  {
   "cell_type": "markdown",
   "metadata": {},
   "source": [
    "## 5.4 代码示例\n",
    "### 5.4.1 平均：\n",
    "##### 简单加权平均，结果直接融合  求多个预测结果的平均值。pre1 - pren分别是n组模型预测出来的结果。将其进行加权融 "
   ]
  },
  {
   "cell_type": "code",
   "execution_count": null,
   "metadata": {},
   "outputs": [],
   "source": [
    "pre = (pre1 + pre2 + pre3 +...+pren)/n"
   ]
  },
  {
   "cell_type": "markdown",
   "metadata": {},
   "source": [
    "##### 加权平均法  一般根据之前预测模型的准确率，进行加权融合，将准确性高的模型赋予更高的权重。"
   ]
  },
  {
   "cell_type": "code",
   "execution_count": null,
   "metadata": {},
   "outputs": [],
   "source": [
    "pre = 0.3pre1 + 0.3pre2 + 0.4pre3"
   ]
  },
  {
   "cell_type": "code",
   "execution_count": null,
   "metadata": {},
   "outputs": [],
   "source": []
  },
  {
   "cell_type": "code",
   "execution_count": null,
   "metadata": {},
   "outputs": [],
   "source": []
  },
  {
   "cell_type": "code",
   "execution_count": null,
   "metadata": {},
   "outputs": [],
   "source": []
  },
  {
   "cell_type": "code",
   "execution_count": null,
   "metadata": {},
   "outputs": [],
   "source": []
  },
  {
   "cell_type": "code",
   "execution_count": null,
   "metadata": {},
   "outputs": [],
   "source": []
  }
 ],
 "metadata": {
  "kernelspec": {
   "display_name": "Python 3",
   "language": "python",
   "name": "python3"
  },
  "language_info": {
   "codemirror_mode": {
    "name": "ipython",
    "version": 3
   },
   "file_extension": ".py",
   "mimetype": "text/x-python",
   "name": "python",
   "nbconvert_exporter": "python",
   "pygments_lexer": "ipython3",
   "version": "3.7.7"
  }
 },
 "nbformat": 4,
 "nbformat_minor": 4
}
